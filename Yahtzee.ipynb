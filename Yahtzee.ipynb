{
 "cells": [
  {
   "cell_type": "code",
   "execution_count": 26,
   "id": "6c8bd2e7",
   "metadata": {},
   "outputs": [],
   "source": [
    "import numpy as np\n",
    "\n",
    "#function to get list of possible outcomes for rolls with \"num_die\" die\n",
    "def make_die_list(num_die):\n",
    "    to_ret = list()\n",
    "    if(num_die == 1):\n",
    "        return [[1],[2],[3],[4],[5],[6]]\n",
    "    for i in range(1,7):\n",
    "        for l in make_die_list(num_die - 1):\n",
    "            l.append(i)\n",
    "            to_ret.append(l)\n",
    "    return to_ret\n",
    "\n",
    "\n",
    "def get_transition_probs(num_of_die_rolled):\n",
    "    to_ret = np.zeros([1,5])\n",
    "    \n",
    "    if(num_of_die_rolled == 0):\n",
    "        #return row where 100% chance to remain in same Yahtzee state\n",
    "        to_ret[(0,0)] = 1 \n",
    "        return to_ret\n",
    "    \n",
    "    #Since die not rolled are the same and their number does not matter, we initialize them as ones\n",
    "    saved_die = [1]*(5-num_of_die_rolled)\n",
    "    \n",
    "    possible_outcomes = make_die_list(num_of_die_rolled)\n",
    "    for o in possible_outcomes:\n",
    "        \n",
    "        if num_of_die_rolled != 5:\n",
    "            o.extend(saved_die)\n",
    "            #without this if statement, if we roll five dice the outcome is [#,#,#,#,#,[]] which doesnt make sense\n",
    "            \n",
    "        counts = {item:o.count(item) for item in o}\n",
    "        max_num = max(list(counts.values()))\n",
    "        to_ret[(0,max_num-1)] += 1\n",
    "        \n",
    "    #reshape results so transition probability rows will combine into transition probability matricx well\n",
    "    to_ret = np.fliplr(to_ret)\n",
    "    \n",
    "    #convert outcomes to probability by dividing by number of possible outcomes\n",
    "    return to_ret/ 6**num_of_die_rolled"
   ]
  },
  {
   "cell_type": "code",
   "execution_count": 23,
   "id": "03021900",
   "metadata": {},
   "outputs": [
    {
     "data": {
      "text/plain": [
       "[array([1., 0., 0., 0., 0.]),\n",
       " array([0.16666667, 0.83333333, 0.        , 0.        , 0.        ]),\n",
       " array([0.02777778, 0.27777778, 0.69444444, 0.        , 0.        ]),\n",
       " array([0.00462963, 0.06944444, 0.37037037, 0.55555556, 0.        ]),\n",
       " array([0.0007716 , 0.01929012, 0.19290123, 0.69444444, 0.09259259])]"
      ]
     },
     "execution_count": 23,
     "metadata": {},
     "output_type": "execute_result"
    }
   ],
   "source": [
    "for i in range(5,0,-1):\n",
    "    if i == 5:\n",
    "        running_trans = get_transition_probs(5-i)\n",
    "    else:\n",
    "        running_trans = np.concatenate((running_trans,get_transition_probs(5-i))) #,axis=1\n",
    "list((running_trans))"
   ]
  },
  {
   "cell_type": "code",
   "execution_count": 24,
   "id": "22e55824",
   "metadata": {},
   "outputs": [
    {
     "data": {
      "text/plain": [
       "array([[1.        , 0.        , 0.        , 0.        , 0.        ],\n",
       "       [0.30555556, 0.69444444, 0.        , 0.        , 0.        ],\n",
       "       [0.0933642 , 0.42438272, 0.48225309, 0.        , 0.        ],\n",
       "       [0.02906379, 0.19933128, 0.46296296, 0.30864198, 0.        ],\n",
       "       [0.01263146, 0.11967021, 0.40902206, 0.45010288, 0.00857339]])"
      ]
     },
     "execution_count": 24,
     "metadata": {},
     "output_type": "execute_result"
    }
   ],
   "source": [
    "#multiply transition probability matrix by itself three times\n",
    "np.dot(running_trans,running_trans,running_trans)"
   ]
  },
  {
   "cell_type": "code",
   "execution_count": 25,
   "id": "e912fde3",
   "metadata": {},
   "outputs": [
    {
     "data": {
      "text/plain": [
       "0.012631458619112938"
      ]
     },
     "execution_count": 25,
     "metadata": {},
     "output_type": "execute_result"
    }
   ],
   "source": [
    "#final result\n",
    "running_trans[(4,0)]"
   ]
  }
 ],
 "metadata": {
  "kernelspec": {
   "display_name": "Python 3 (ipykernel)",
   "language": "python",
   "name": "python3"
  },
  "language_info": {
   "codemirror_mode": {
    "name": "ipython",
    "version": 3
   },
   "file_extension": ".py",
   "mimetype": "text/x-python",
   "name": "python",
   "nbconvert_exporter": "python",
   "pygments_lexer": "ipython3",
   "version": "3.8.3"
  }
 },
 "nbformat": 4,
 "nbformat_minor": 5
}
